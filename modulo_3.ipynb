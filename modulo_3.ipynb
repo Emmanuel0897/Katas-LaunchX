{
 "cells": [
  {
   "cell_type": "code",
   "execution_count": 2,
   "metadata": {},
   "outputs": [
    {
     "name": "stdout",
     "output_type": "stream",
     "text": [
      "¡Alerta! ¡Un asteroide se acerca a gran velocidad!\n"
     ]
    }
   ],
   "source": [
    "vel_asteroide = 49\n",
    "if vel_asteroide > 25:\n",
    "    print('¡Alerta! ¡Un asteroide se acerca a gran velocidad!')\n",
    "else:\n",
    "    print('¡No hay peligro!')"
   ]
  },
  {
   "cell_type": "code",
   "execution_count": 3,
   "metadata": {},
   "outputs": [
    {
     "name": "stdout",
     "output_type": "stream",
     "text": [
      "¡Nada que ver aquí!\n"
     ]
    }
   ],
   "source": [
    "vel_asteroide = 19\n",
    "if vel_asteroide > 20:\n",
    "    print('Mira! ¡Hay una luz brillante en el cielo!')\n",
    "elif vel_asteroide == 20:\n",
    "    print('Mira! ¡Hay una luz brillante en el cielo!')\n",
    "else:\n",
    "    print('¡No hay peligro!')"
   ]
  },
  {
   "cell_type": "code",
   "execution_count": null,
   "metadata": {},
   "outputs": [],
   "source": [
    "vel_asteroide = 25\n",
    "tam_asteroide = 40\n",
    "if vel_asteroide > 25 and tam_asteroide > 25:\n",
    "    print('¡Alerta, Un asteroide muy peligroso viene hacia la Tierra!')\n",
    "elif vel_asteroide >= 20:\n",
    "    print('Mira! ¡Hay una luz brillante en el cielo!')\n",
    "elif tam_asteroide < 25:\n",
    "    print('No hay peligro')\n",
    "else:\n",
    "    print('No hay peligro')"
   ]
  }
 ],
 "metadata": {
  "interpreter": {
   "hash": "8ed06d07b9ff369db6ed7b53447be18709da67cd911d838d72fee7fecb26667a"
  },
  "kernelspec": {
   "display_name": "Python 3.10.2 64-bit",
   "language": "python",
   "name": "python3"
  },
  "language_info": {
   "codemirror_mode": {
    "name": "ipython",
    "version": 3
   },
   "file_extension": ".py",
   "mimetype": "text/x-python",
   "name": "python",
   "nbconvert_exporter": "python",
   "pygments_lexer": "ipython3",
   "version": "3.10.2"
  },
  "orig_nbformat": 4
 },
 "nbformat": 4,
 "nbformat_minor": 2
}
